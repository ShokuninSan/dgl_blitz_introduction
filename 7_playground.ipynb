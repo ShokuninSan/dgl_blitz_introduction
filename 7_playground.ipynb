{
 "cells": [
  {
   "cell_type": "code",
   "execution_count": null,
   "id": "c7bdc966-615d-48ce-9a9d-64aa8ad5ffc8",
   "metadata": {},
   "outputs": [],
   "source": [
    "import dgl\n",
    "import dgl.function as fn\n",
    "\n",
    "import networkx as nx\n",
    "\n",
    "import torch\n",
    "import torch.nn as nn"
   ]
  },
  {
   "cell_type": "code",
   "execution_count": null,
   "id": "0a73a1ba-750d-4c9e-8164-9dabd6b77714",
   "metadata": {},
   "outputs": [],
   "source": [
    "def plot_graph(g):\n",
    "    nxg = g.to_networkx()\n",
    "    pos = nx.kamada_kawai_layout(nxg)\n",
    "    nx.draw(nxg, pos)"
   ]
  },
  {
   "cell_type": "code",
   "execution_count": null,
   "id": "3000dce8-1c5c-4ea8-8062-bb0810d5aee0",
   "metadata": {},
   "outputs": [],
   "source": [
    "torch.manual_seed(42)"
   ]
  },
  {
   "cell_type": "code",
   "execution_count": null,
   "id": "4d421319-cad4-4a1e-ad31-88861dc3eefc",
   "metadata": {},
   "outputs": [],
   "source": [
    "n_features = 4\n",
    "n_nodes = 4"
   ]
  },
  {
   "cell_type": "code",
   "execution_count": null,
   "id": "62f9e54e-bbe7-482b-8a90-9fd10a0cd2a3",
   "metadata": {},
   "outputs": [],
   "source": [
    "features = torch.tensor(\n",
    "    [\n",
    "        [1,1,1,1],\n",
    "        [2,2,2,2],\n",
    "        [3,3,3,3],\n",
    "        [4,4,4,4]\n",
    "    ]\n",
    ")"
   ]
  },
  {
   "cell_type": "code",
   "execution_count": null,
   "id": "4700ef94-adfa-424e-82de-fd83e505ef7d",
   "metadata": {},
   "outputs": [],
   "source": [
    "features.shape"
   ]
  },
  {
   "cell_type": "code",
   "execution_count": null,
   "id": "2c403922-6add-40a6-999f-5f06c5a42f30",
   "metadata": {},
   "outputs": [],
   "source": [
    "g = dgl.graph(([0,1,2,3], [1,2,0,0]))"
   ]
  },
  {
   "cell_type": "code",
   "execution_count": null,
   "id": "f37e39bd-3246-4f6c-97d7-a5323e7107c0",
   "metadata": {},
   "outputs": [],
   "source": [
    "g"
   ]
  },
  {
   "cell_type": "code",
   "execution_count": null,
   "id": "f37bc353-4976-4ef1-a32c-3cc2453f7460",
   "metadata": {},
   "outputs": [],
   "source": [
    "model = nn.Linear(n_features * 2, 2)"
   ]
  },
  {
   "cell_type": "code",
   "execution_count": null,
   "id": "cce80806-2eb6-4e64-8fe3-d66f84941424",
   "metadata": {},
   "outputs": [],
   "source": [
    "def forward(model, g, features):\n",
    "    \n",
    "    with g.local_scope():\n",
    "        g.ndata['h'] = features\n",
    "        g.update_all(message_func=fn.copy_u('h', 'm'), reduce_func=fn.mean('m', 'h_N'))\n",
    "        h_N = g.ndata['h_N']\n",
    "        print(h_N)\n",
    "        h_total = torch.cat([features, h_N], dim=1)\n",
    "        return model(h_total)"
   ]
  },
  {
   "cell_type": "code",
   "execution_count": null,
   "id": "f46ef571-4083-40d2-a518-abcbb0631c89",
   "metadata": {},
   "outputs": [],
   "source": [
    "forward(model, g, features.float())"
   ]
  },
  {
   "cell_type": "code",
   "execution_count": null,
   "id": "5aa338c3-5d00-420a-ac52-4953b2459553",
   "metadata": {},
   "outputs": [],
   "source": [
    "plot_graph(g)"
   ]
  },
  {
   "cell_type": "code",
   "execution_count": null,
   "id": "f9db8416-af66-4997-95e1-e7a2c1be49a3",
   "metadata": {},
   "outputs": [],
   "source": []
  }
 ],
 "metadata": {
  "kernelspec": {
   "display_name": "Python 3 (ipykernel)",
   "language": "python",
   "name": "python3"
  },
  "language_info": {
   "codemirror_mode": {
    "name": "ipython",
    "version": 3
   },
   "file_extension": ".py",
   "mimetype": "text/x-python",
   "name": "python",
   "nbconvert_exporter": "python",
   "pygments_lexer": "ipython3",
   "version": "3.9.7"
  }
 },
 "nbformat": 4,
 "nbformat_minor": 5
}
